{
 "cells": [
  {
   "cell_type": "markdown",
   "metadata": {},
   "source": [
    "## 学习笔记\n"
   ]
  },
  {
   "cell_type": "markdown",
   "metadata": {},
   "source": [
    "### 1\n",
    "\n",
    "我是在3.17号开始阅读《自学是门手艺》，注册了GitHub的账号，Fork了这本书到本地，甚至下载了GitHub Desktop，成功安装了JupyterLab,\n",
    "读了好几个章节，并且按照安丘自己运行了一些代码，学以致用。\n",
    "\n",
    "直到3.26号，我决定开始一边阅读一边做笔记，方便将来的总结时，竟然吓出了一身冷汗。\n",
    "\n",
    "\n",
    "但是这些代码都是自己从[原来的网页上](https://github.com/selfteaching/the-craft-of-selfteaching) \n",
    "一个一个复制粘贴，再在Jupyter上运行了，非常辛苦且浪费时间。\n",
    "但是3.26日决定开始做笔记时(在GitHub上自己新创了一个Markdown页面，名为《自学是门手艺》读后感，再一次重复先前的步骤，在原来的网页上复制，粘贴......非常之累）\n",
    "，还没有真正读到编程部分，仅仅是介绍如何阅读这本书，02.proof-of-work中，我竟吓出了一身冷汗。我虽然确实按照了前面几个步骤来做，但是却完全忽略了后半部分！更加具体一点的话，就是从“如果在Jupypterlab中浏览本书的话，\n",
    "其中的代码都是可以“当场执行”的，并且，你还可以直接改着玩......”开始的。\n",
    "\n",
    "> 请按照以下步骤操作：\n",
    ">\n",
    "> 注册 github.com 帐号 —— 无论如何你都必须有 github 账户；\n",
    ">\n",
    "> 使用浏览器访问 https://github.com/selfteaching/the-craft-of-selfteaching；\n",
    ">\n",
    "> 在页面右上部找到“Fork”按钮，将该仓库 Fork 到你自己的账户中；\n",
    ">\n",
    "> 使用 git clone 命令或者使用 Desktop for Github 将 the craft of selfteaching 这个你 Fork 过来的仓库克隆到本地；\n",
    ">\n",
    "> 按照 Jupyterlab 的安装与配置 的说明在本地搭建好 Jupyterlab —— 如果在 Jupyterlab 中浏览本书的话，其中的所有代码都是可以“当场执行”的，并且，你还可以直接改着玩……\n",
    ">\n",
    "> 在阅读过程中，可以不断通过修改文章中的代码作为练习 —— 这样做的结果就是已阅读过的文件会发生变化…… 每读完一章，甚至时时刻刻，你都可以通过 git commit 命令向你自己 Fork 过来的仓库提交变化 —— 这就是你的阅读工作证明；\n",
    ">\n",
    "> 仓库里有一个目录，my-notes，你可以把你在学习过程中写的笔记放在那里；\n",
    ">\n",
    "> 仓库里还有另外一个目录，from-readers；那是用来收集读者反馈的 —— 将来你可以写一篇《我的自学之路》，放在这个目录里，单独创建一个分支，而后提交 pull request，接受其他读者投票，若是达到一定的赞同率，那么你的文章就会被收录到主仓库中被更多人看到，激励更多的人像你一样走上自学之路……\n",
    ">\n",
    "> 当然，为了这么做，你还要多学一样反正你早晚都必须学会的东西，Git —— 请参阅附录 《Git 入门》。\n",
    "\n",
    "如果我没有重读最开始的介绍，说不定我会继续重复先前效率极低，甚至偏离预设的学习道路，真的是吓出了一身冷汗。\n",
    "\n",
    "不禁让我想到李笑来重复许久的“只字不差的阅读能力”是多么重要，又是多么容易让人们忽略其重要性，如同邮箱的垃圾邮件过滤器。\n",
    "\n",
    "因为缺少“只字不差的阅读能力”，人们永远也无法知道自己错过了什么，甚至可能为自己拥有超乎常人的阅读速度而沾沾自喜。\n",
    "\n",
    "因为并不知道自己在这样的阅读过程中错过了什么，也永远无法真正地停下脚步，慢慢阅读，而我竟然在如此的一个恶性循环中跳了出来，如同大梦初醒。\n",
    "\n",
    "\n",
    "\n",
    "\n",
    "\n"
   ]
  },
  {
   "cell_type": "code",
   "execution_count": null,
   "metadata": {},
   "outputs": [],
   "source": []
  },
  {
   "cell_type": "code",
   "execution_count": null,
   "metadata": {},
   "outputs": [],
   "source": []
  }
 ],
 "metadata": {
  "kernelspec": {
   "display_name": "Python 3",
   "language": "python",
   "name": "python3"
  },
  "language_info": {
   "codemirror_mode": {
    "name": "ipython",
    "version": 3
   },
   "file_extension": ".py",
   "mimetype": "text/x-python",
   "name": "python",
   "nbconvert_exporter": "python",
   "pygments_lexer": "ipython3",
   "version": "3.7.1"
  }
 },
 "nbformat": 4,
 "nbformat_minor": 2
}
